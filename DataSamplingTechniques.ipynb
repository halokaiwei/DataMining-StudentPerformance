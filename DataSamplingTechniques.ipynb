{
  "metadata": {
    "language_info": {
      "codemirror_mode": {
        "name": "python",
        "version": 3
      },
      "file_extension": ".py",
      "mimetype": "text/x-python",
      "name": "python",
      "nbconvert_exporter": "python",
      "pygments_lexer": "ipython3",
      "version": "3.8"
    },
    "kernelspec": {
      "name": "python",
      "display_name": "Python (Pyodide)",
      "language": "python"
    }
  },
  "nbformat_minor": 4,
  "nbformat": 4,
  "cells": [
    {
      "cell_type": "code",
      "source": "import numpy as np\nimport pandas as pd\nimport matplotlib.pyplot as plt\n\n\n#Data Sampling Technique with Cluster/Stratified Sampling\nfrom sklearn.model_selection import StratifiedShuffleSplit\n\n\n# load the data into a pandas DataFrame\nSP=pd.read_csv(\"StudentPerformance_FinalVersion5.csv\")\n\n# assume the 'class' column contains the target variable we want to stratify on\ntarget = SP['parental level of education']\n\n# define the StratifiedShuffleSplit object with the desired parameters\n#596 and 398 is the rows\nstratified_sampler = StratifiedShuffleSplit(n_splits=2, test_size=0.4, random_state=42)\n\n# split the data into training and testing sets\nfor train_idx, test_idx in stratified_sampler.split(SP, target):\n    train_SP = SP.iloc[train_idx]\n    test_SP = SP.iloc[test_idx]\n    \nprint(\"Training data:\\n\", train_SP)\nprint(\"\\nTesting data:\\n\", test_SP)\n\n\n\n#Data Sampling Techniques with replacement\n\nSP = pd.read_csv('StudentPerformance_FinalVersion5.csv')\n\nsample_with_replacement = SP.sample(n=40, replace=True, random_state=42)\n\nprint(\"Sampling with Replacement:\")\nprint(sample_with_replacement)\n\n\n",
      "metadata": {
        "trusted": true
      },
      "execution_count": 1,
      "outputs": [
        {
          "ename": "<class 'ModuleNotFoundError'>",
          "evalue": "No module named 'seaborn'",
          "traceback": [
            "\u001b[0;31m---------------------------------------------------------------------------\u001b[0m",
            "\u001b[0;31mModuleNotFoundError\u001b[0m                       Traceback (most recent call last)",
            "Cell \u001b[0;32mIn[1], line 3\u001b[0m\n\u001b[1;32m      1\u001b[0m \u001b[38;5;28;01mimport\u001b[39;00m \u001b[38;5;21;01mnumpy\u001b[39;00m \u001b[38;5;28;01mas\u001b[39;00m \u001b[38;5;21;01mnp\u001b[39;00m\n\u001b[1;32m      2\u001b[0m \u001b[38;5;28;01mimport\u001b[39;00m \u001b[38;5;21;01mpandas\u001b[39;00m \u001b[38;5;28;01mas\u001b[39;00m \u001b[38;5;21;01mpd\u001b[39;00m\n\u001b[0;32m----> 3\u001b[0m \u001b[38;5;28;01mimport\u001b[39;00m \u001b[38;5;21;01mseaborn\u001b[39;00m \u001b[38;5;28;01mas\u001b[39;00m \u001b[38;5;21;01msns\u001b[39;00m\n\u001b[1;32m      4\u001b[0m \u001b[38;5;28;01mimport\u001b[39;00m \u001b[38;5;21;01mmatplotlib\u001b[39;00m\u001b[38;5;21;01m.\u001b[39;00m\u001b[38;5;21;01mpyplot\u001b[39;00m \u001b[38;5;28;01mas\u001b[39;00m \u001b[38;5;21;01mplt\u001b[39;00m\n\u001b[1;32m      7\u001b[0m \u001b[38;5;66;03m#Data Sampling Technique with Cluster/Stratified Sampling\u001b[39;00m\n",
            "\u001b[0;31mModuleNotFoundError\u001b[0m: No module named 'seaborn'"
          ],
          "output_type": "error"
        }
      ]
    },
    {
      "cell_type": "code",
      "source": "",
      "metadata": {},
      "execution_count": null,
      "outputs": []
    }
  ]
}