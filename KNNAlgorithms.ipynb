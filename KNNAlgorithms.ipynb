{
  "metadata": {
    "language_info": {
      "codemirror_mode": {
        "name": "python",
        "version": 3
      },
      "file_extension": ".py",
      "mimetype": "text/x-python",
      "name": "python",
      "nbconvert_exporter": "python",
      "pygments_lexer": "ipython3",
      "version": "3.8"
    },
    "kernelspec": {
      "name": "python",
      "display_name": "Python (Pyodide)",
      "language": "python"
    }
  },
  "nbformat_minor": 4,
  "nbformat": 4,
  "cells": [
    {
      "cell_type": "code",
      "source": "import pandas as pd\nfrom sklearn.preprocessing import OneHotEncoder\nfrom sklearn.compose import ColumnTransformer\nfrom sklearn.model_selection import train_test_split\nfrom sklearn.neighbors import KNeighborsClassifier\nfrom sklearn.metrics import accuracy_score\n\n# Load the dataset\ndf=pd.read_csv(\"StudentPerformance_FinalVersion5.csv\")\n\n# Encode the categorical features using one-hot encoding\nct = ColumnTransformer(\n    [('one_hot_encoder', OneHotEncoder(), [0, 1, 2,3])],  # The columns to be transformed\n    remainder='passthrough'  # Leave the remaining columns unchanged\n)\nX = ct.fit_transform(df)\n\n# Prepare the data for KNN\ny = df['average_marks'].values\nX_train, X_test, y_train, y_test = train_test_split(X, y, test_size=0.3, random_state=0)\n\n# Create a KNN classifier object\nknn = KNeighborsClassifier(n_neighbors=5)\n\n# Fit the classifier to the training data\nknn.fit(X_train, y_train)\n\n# Predict the test set results\ny_pred = knn.predict(X_test)\n\n# Print the accuracy score of the classifier\nprint(\"Accuracy:\", accuracy_score(y_test, y_pred))\n\n\n\n\nimport matplotlib.pyplot as plt\nfrom sklearn.neighbors import KNeighborsClassifier\nfrom sklearn.model_selection import train_test_split\n\n# Assuming X and y are your feature and target variables\nX_train, X_test, y_train, y_test = train_test_split(X, y, test_size=0.4)\n\n# Initialize an empty list to store accuracy values\naccuracy_values = []\n\n# Define a range of k values to test\nk_values = range(1, 30)\n\n# Iterate over k values and fit the model\nfor k in k_values:\n    knn = KNeighborsClassifier(n_neighbors=k)\n    knn.fit(X_train, y_train)\n    accuracy = knn.score(X_test, y_test)\n    accuracy_values.append(accuracy)\n\n# Plot the accuracy vs. k value graph\nplt.plot(k_values, accuracy_values)\nplt.xlabel('k value')\nplt.ylabel('Accuracy')\nplt.title('Accuracy vs. k value plot')\nplt.show()\n\n\n\n\n\n\n\n\n\n\n",
      "metadata": {},
      "execution_count": null,
      "outputs": []
    }
  ]
}