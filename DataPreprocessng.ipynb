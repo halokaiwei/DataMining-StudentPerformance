{
  "metadata": {
    "language_info": {
      "codemirror_mode": {
        "name": "python",
        "version": 3
      },
      "file_extension": ".py",
      "mimetype": "text/x-python",
      "name": "python",
      "nbconvert_exporter": "python",
      "pygments_lexer": "ipython3",
      "version": "3.8"
    },
    "kernelspec": {
      "name": "python",
      "display_name": "Python (Pyodide)",
      "language": "python"
    }
  },
  "nbformat_minor": 4,
  "nbformat": 4,
  "cells": [
    {
      "cell_type": "code",
      "source": "import numpy as np\nimport pandas as pd\n\nimport matplotlib.pyplot as plt\nfrom sklearn.preprocessing import MinMaxScaler\n\n\n#Original Dataset call\nSP=pd.read_csv(\"StudentPerformance.csv\")\nprint(SP)\n\n\n#show some basic information for oiginal dataset\nprint(SP.describe())\n\n\n\n#Cheking the missing value\nprint(SP.isnull().sum())\n\n\n#Data Transformation\n#Calculate the average score to be more easily compare or predict\nSP=pd.read_csv(\"StudentPerformance.csv\")\n\nSP[\"average_marks\"]=round((SP[\"math score\"]+SP[\"reading score\"]+SP[\"writing score\"])/3)\n#Drop the score and race/ethnicity because irrelevant in the prediction\nSP=SP.drop([\"math score\",\"reading score\",\"writing score\",\"race/ethnicity\"],axis=1)\nprint(SP)\nSP.to_csv(\"StudentPerformance_cleaned.csv\",index=False)\n\n\n\n#Outlier section\n#Using IQR method to identify outlier\n# Load the CSV file into a Pandas dataframe\nSP=pd.read_csv(\"StudentPerformance_cleaned.csv\")\n\n\n# Calculate the IQR for the \"column_name\" column\nq1 = SP[\"average_marks\"].quantile(0.25)\nq3 = SP[\"average_marks\"].quantile(0.75)\niqr = q3 - q1\n\n# Determine the lower and upper bounds for outliers\nlower_bound = q1 - 0.2*iqr\nupper_bound = q3 + 0.2*iqr\n\n# Identify the outliers in the \"column_name\" column\noutliers = SP[(SP[\"average_marks\"] < lower_bound) | (SP[\"average_marks\"] > upper_bound)]\n\n# Print the outliers\nprint(outliers)\n\n\n#Print the result without outlier\nSP_without_outlier= SP[(SP[\"average_marks\"] >= lower_bound) & (SP[\"average_marks\"] <= upper_bound)]\nprint(SP_without_outlier)\n\n#record the final result into the Excel file\nSP_without_outlier.to_csv(\"StudentPerformance_FinalVersion5.csv\",index=False)\n\n#Show dataset sample and attribute after pre processing\nprint(SP.shape)\n\n#Show the basic information after the pre processing\nprint(SP.describe)\n\n\n",
      "metadata": {
        "trusted": true
      },
      "execution_count": 7,
      "outputs": [
        {
          "name": "stdout",
          "text": "     gender race/ethnicity parental level of education         lunch  \\\n0    female        group B           bachelor's degree      standard   \n1    female        group C                some college      standard   \n2    female        group B             master's degree      standard   \n3      male        group A          associate's degree  free/reduced   \n4      male        group C                some college      standard   \n..      ...            ...                         ...           ...   \n995  female        group E             master's degree      standard   \n996    male        group C                 high school  free/reduced   \n997  female        group C                 high school  free/reduced   \n998  female        group D                some college      standard   \n999  female        group D                some college  free/reduced   \n\n    test preparation course  math score  reading score  writing score  \n0                      none          72             72             74  \n1                 completed          69             90             88  \n2                      none          90             95             93  \n3                      none          47             57             44  \n4                      none          76             78             75  \n..                      ...         ...            ...            ...  \n995               completed          88             99             95  \n996                    none          62             55             55  \n997               completed          59             71             65  \n998               completed          68             78             77  \n999                    none          77             86             86  \n\n[1000 rows x 8 columns]\n       math score  reading score  writing score\ncount  1000.00000    1000.000000    1000.000000\nmean     66.08900      69.169000      68.054000\nstd      15.16308      14.600192      15.195657\nmin       0.00000      17.000000      10.000000\n25%      57.00000      59.000000      57.750000\n50%      66.00000      70.000000      69.000000\n75%      77.00000      79.000000      79.000000\nmax     100.00000     100.000000     100.000000\ngender                         0\nrace/ethnicity                 0\nparental level of education    0\nlunch                          0\ntest preparation course        0\nmath score                     0\nreading score                  0\nwriting score                  0\ndtype: int64\n     gender parental level of education         lunch test preparation course  \\\n0    female           bachelor's degree      standard                    none   \n1    female                some college      standard               completed   \n2    female             master's degree      standard                    none   \n3      male          associate's degree  free/reduced                    none   \n4      male                some college      standard                    none   \n..      ...                         ...           ...                     ...   \n995  female             master's degree      standard               completed   \n996    male                 high school  free/reduced                    none   \n997  female                 high school  free/reduced               completed   \n998  female                some college      standard               completed   \n999  female                some college  free/reduced                    none   \n\n     average_marks  \n0             73.0  \n1             82.0  \n2             93.0  \n3             49.0  \n4             76.0  \n..             ...  \n995           94.0  \n996           57.0  \n997           65.0  \n998           74.0  \n999           83.0  \n\n[1000 rows x 5 columns]\n     gender parental level of education         lunch test preparation course  \\\n2    female             master's degree      standard                    none   \n3      male          associate's degree  free/reduced                    none   \n6    female                some college      standard               completed   \n7      male                some college  free/reduced                    none   \n9    female                 high school  free/reduced                    none   \n..      ...                         ...           ...                     ...   \n983  female                some college      standard               completed   \n986  female          associate's degree      standard                    none   \n988  female            some high school  free/reduced                    none   \n995  female             master's degree      standard               completed   \n999  female                some college  free/reduced                    none   \n\n     average_marks  \n2             93.0  \n3             49.0  \n6             92.0  \n7             41.0  \n9             49.0  \n..             ...  \n983           85.0  \n986           50.0  \n988           45.0  \n995           94.0  \n999           83.0  \n\n[318 rows x 5 columns]\n     gender parental level of education         lunch test preparation course  \\\n0    female           bachelor's degree      standard                    none   \n1    female                some college      standard               completed   \n4      male                some college      standard                    none   \n5    female          associate's degree      standard                    none   \n8      male                 high school  free/reduced               completed   \n..      ...                         ...           ...                     ...   \n993  female           bachelor's degree  free/reduced                    none   \n994    male                 high school      standard                    none   \n996    male                 high school  free/reduced                    none   \n997  female                 high school  free/reduced               completed   \n998  female                some college      standard               completed   \n\n     average_marks  \n0             73.0  \n1             82.0  \n4             76.0  \n5             77.0  \n8             65.0  \n..             ...  \n993           69.0  \n994           63.0  \n996           57.0  \n997           65.0  \n998           74.0  \n\n[682 rows x 5 columns]\n(1000, 5)\n<bound method NDFrame.describe of      gender parental level of education         lunch test preparation course  \\\n0    female           bachelor's degree      standard                    none   \n1    female                some college      standard               completed   \n2    female             master's degree      standard                    none   \n3      male          associate's degree  free/reduced                    none   \n4      male                some college      standard                    none   \n..      ...                         ...           ...                     ...   \n995  female             master's degree      standard               completed   \n996    male                 high school  free/reduced                    none   \n997  female                 high school  free/reduced               completed   \n998  female                some college      standard               completed   \n999  female                some college  free/reduced                    none   \n\n     average_marks  \n0             73.0  \n1             82.0  \n2             93.0  \n3             49.0  \n4             76.0  \n..             ...  \n995           94.0  \n996           57.0  \n997           65.0  \n998           74.0  \n999           83.0  \n\n[1000 rows x 5 columns]>\n",
          "output_type": "stream"
        }
      ]
    },
    {
      "cell_type": "code",
      "source": "",
      "metadata": {},
      "execution_count": null,
      "outputs": []
    },
    {
      "cell_type": "code",
      "source": "",
      "metadata": {},
      "execution_count": null,
      "outputs": []
    }
  ]
}